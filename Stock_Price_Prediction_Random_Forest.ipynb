{
  "cells": [
    {
      "cell_type": "markdown",
      "metadata": {
        "id": "326aac64"
      },
      "source": [
        "\n",
        "# 📈 Dự đoán giá cổ phiếu (Stock Price Prediction) using Random Forest\n",
        "\n",
        "> **Lưu ý:** Nên tạo bản sao trước khi chạy để tránh mất dữ liệu gốc.  \n",
        "> **Note:** Make a copy before running to avoid losing original data.\n",
        "\n",
        "Trong notebook này, ta sẽ xây dựng mô hình học máy để dự đoán giá cổ phiếu (ví dụ AAPL - Apple).  \n",
        "In this notebook, we will build a machine learning model to predict stock prices (e.g., AAPL - Apple).\n"
      ]
    },
    {
      "cell_type": "markdown",
      "source": [
        "## 📚 Thư viện | Libraries\n",
        "\n",
        "➡️ Đây là nơi import các thư viện cần thiết để chương trình hoạt động.\n",
        "\n",
        "➡️ This is where necessary libraries are imported for the program to work.\n"
      ],
      "metadata": {
        "id": "tYmwCkcirhKt"
      }
    },
    {
      "cell_type": "code",
      "source": [
        "# 📈 Tải dữ liệu tài chính từ Yahoo Finance\n",
        "# 📈 Load financial data from Yahoo Finance\n",
        "import yfinance as yf\n",
        "\n",
        "# 📊 Xử lý dữ liệu dạng bảng\n",
        "# 📊 Handle tabular data\n",
        "import pandas as pd\n",
        "\n",
        "# 🔢 Tính toán số học với mảng\n",
        "# 🔢 Perform numerical computations with arrays\n",
        "import numpy as np\n",
        "\n",
        "# 📉 Vẽ biểu đồ trực quan hóa dữ liệu\n",
        "# 📉 Plot charts for data visualization\n",
        "import matplotlib.pyplot as plt\n",
        "\n",
        "# 💾 Lưu và tải mô hình ML\n",
        "# 💾 Save and load ML models\n",
        "import joblib\n",
        "\n",
        "# 📚 Chia tập dữ liệu huấn luyện và kiểm tra\n",
        "# 📚 Split dataset into training and test sets\n",
        "from sklearn.model_selection import train_test_split\n",
        "\n",
        "# 🌲 Mô hình hồi quy rừng ngẫu nhiên\n",
        "# 🌲 Random Forest regression model\n",
        "from sklearn.ensemble import RandomForestRegressor\n",
        "\n",
        "# 🧮 Đánh giá độ chính xác bằng sai số tuyệt đối trung bình\n",
        "# 🧮 Evaluate accuracy using Mean Absolute Error (MAE)\n",
        "from sklearn.metrics import mean_absolute_error"
      ],
      "metadata": {
        "id": "AvyR_HTGrlwN"
      },
      "execution_count": 12,
      "outputs": []
    },
    {
      "cell_type": "markdown",
      "metadata": {
        "id": "c3258a08"
      },
      "source": [
        "## 📥 Bước 1: Tải dữ liệu cổ phiếu | Download stock data\n",
        "➡️ Sử dụng thư viện yfinance để lấy dữ liệu lịch sử giá cổ phiếu của Apple (AAPL) từ Yahoo Finance.\n",
        "\n",
        "➡️ Use the yfinance library to fetch historical stock price data for Apple (AAPL) from Yahoo Finance.\n"
      ]
    },
    {
      "cell_type": "code",
      "execution_count": 13,
      "metadata": {
        "colab": {
          "base_uri": "https://localhost:8080/"
        },
        "id": "5MUu0dK-e3Xd",
        "outputId": "566a860a-5855-4b15-a679-ae6487aa599d",
        "collapsed": true
      },
      "outputs": [
        {
          "output_type": "stream",
          "name": "stderr",
          "text": [
            "\r[*********************100%***********************]  1 of 1 completed"
          ]
        },
        {
          "output_type": "stream",
          "name": "stdout",
          "text": [
            "Price           Close       High        Low       Open     Volume\n",
            "Ticker           AAPL       AAPL       AAPL       AAPL       AAPL\n",
            "Date                                                             \n",
            "2020-01-02  72.620857  72.681304  71.373233  71.627107  135480400\n",
            "2020-01-03  71.914825  72.676454  71.689965  71.847125  146322800\n",
            "2020-01-06  72.487854  72.526541  70.783256  71.034717  118387200\n",
            "2020-01-07  72.146927  72.753808  71.926900  72.497514  108872000\n",
            "2020-01-08  73.307526  73.609760  71.849548  71.849548  132079200\n"
          ]
        },
        {
          "output_type": "stream",
          "name": "stderr",
          "text": [
            "\n"
          ]
        }
      ],
      "source": [
        "# 📥 Tải dữ liệu cổ phiếu Apple (AAPL) từ ngày 01/01/2020 đến 01/01/2024\n",
        "# 📥 Download Apple (AAPL) stock data from Jan 1, 2020 to Jan 1, 2024\n",
        "import yfinance as yf\n",
        "\n",
        "data = yf.download(\"AAPL\", start=\"2020-01-01\", end=\"2024-01-01\")\n",
        "\n",
        "# 👀 In ra 5 dòng đầu tiên để kiểm tra dữ liệu\n",
        "# 👀 Print the first 5 rows to inspect the data\n",
        "print(data.head())\n"
      ]
    },
    {
      "cell_type": "markdown",
      "metadata": {
        "id": "081b8910"
      },
      "source": [
        "\n",
        "## 🔧 Bước 2: Tính toán các chỉ số kỹ thuật và xử lý dữ liệu  \n",
        "### Step 2: Calculate technical indicators and process data\n",
        "\n",
        "📊 Phân tích trung bình động | Moving Average Analysis\n",
        "\n",
        "    ➡️ Tính trung bình động ngắn hạn (10 ngày) và dài hạn (50 ngày) từ dữ liệu giá đóng cửa cổ phiếu.\n",
        "\n",
        "    ➡️ Calculate short-term (10-day) and long-term (50-day) moving averages from stock closing price data.\n",
        "\n",
        "🧠 Chuẩn bị dữ liệu cho mô hình học máy | Prepare data for machine learning\n",
        "\n",
        "    ➡️ Chọn các đặc trưng kỹ thuật (MA_10, MA_50, Volume) để dự đoán giá đóng cửa của ngày hôm sau.\n",
        "\n",
        "    ➡️ Select technical features (MA_10, MA_50, Volume) to predict the next day's closing price."
      ]
    },
    {
      "cell_type": "code",
      "execution_count": 14,
      "metadata": {
        "colab": {
          "base_uri": "https://localhost:8080/"
        },
        "id": "rRsDQ7iFlQU3",
        "outputId": "8e44e231-bce3-4c6b-8407-766b38b782f8"
      },
      "outputs": [
        {
          "output_type": "stream",
          "name": "stderr",
          "text": [
            "\r[*********************100%***********************]  1 of 1 completed"
          ]
        },
        {
          "output_type": "stream",
          "name": "stdout",
          "text": [
            "Price           Close      MA_10      MA_50\n",
            "Ticker           AAPL                      \n",
            "Date                                       \n",
            "2020-01-02  72.620857        NaN        NaN\n",
            "2020-01-03  71.914825        NaN        NaN\n",
            "2020-01-06  72.487854        NaN        NaN\n",
            "2020-01-07  72.146927        NaN        NaN\n",
            "2020-01-08  73.307526        NaN        NaN\n",
            "...               ...        ...        ...\n",
            "2020-05-19  76.098442  75.147946  66.578267\n",
            "2020-05-20  77.578415  75.619682  66.746729\n",
            "2020-05-21  77.000023  75.958205  66.951658\n",
            "2020-05-22  77.495781  76.171089  67.298347\n",
            "2020-05-26  76.970848  76.212888  67.490381\n",
            "\n",
            "[100 rows x 3 columns]\n"
          ]
        },
        {
          "output_type": "stream",
          "name": "stderr",
          "text": [
            "\n"
          ]
        }
      ],
      "source": [
        "# 📈 Lấy dữ liệu cổ phiếu (Ví dụ: Apple - AAPL)\n",
        "# 📈 Fetch stock data (Example: Apple - AAPL)\n",
        "symbol = \"AAPL\"\n",
        "data = yf.download(symbol, start=\"2020-01-01\", end=\"2024-01-01\")\n",
        "\n",
        "# 📊 Tính trung bình động ngắn hạn (10 ngày)\n",
        "# 📊 Calculate 10-day short-term moving average\n",
        "data[\"MA_10\"] = data[\"Close\"].rolling(window=10).mean()\n",
        "\n",
        "# 📊 Tính trung bình động dài hạn (50 ngày)\n",
        "# 📊 Calculate 50-day long-term moving average\n",
        "data[\"MA_50\"] = data[\"Close\"].rolling(window=50).mean()\n",
        "\n",
        "# 👀 Hiển thị 100 dòng đầu tiên của cột Close, MA_10 và MA_50 để kiểm tra\n",
        "# 👀 Display the first 100 rows of Close, MA_10, and MA_50 columns for inspection\n",
        "print(data[[\"Close\", \"MA_10\", \"MA_50\"]].head(100))\n",
        "\n",
        "# 🎯 Chọn các đặc trưng đầu vào: MA_10, MA_50 và khối lượng giao dịch\n",
        "# 🎯 Select input features: MA_10, MA_50, and trading volume\n",
        "X = data[[\"MA_10\", \"MA_50\", \"Volume\"]]\n",
        "\n",
        "# 🎯 Giá trị mục tiêu: giá đóng cửa ngày hôm sau\n",
        "# 🎯 Target value: next day's closing price\n",
        "y = data[\"Close\"].shift(-1)  # Dịch xuống 1 hàng để dự đoán ngày tiếp theo\n",
        "\n",
        "# 🧹 Loại bỏ dòng cuối vì bị NaN sau khi shift\n",
        "# 🧹 Remove last row due to NaN from shift\n",
        "X = X[:-1]\n",
        "y = y[:-1]\n",
        "\n",
        "# 🔀 Chia dữ liệu thành tập huấn luyện (80%) và kiểm tra (20%)\n",
        "# 🔀 Split data into training (80%) and testing (20%) sets\n",
        "X_train, X_test, y_train, y_test = train_test_split(X, y, test_size=0.2, random_state=42)"
      ]
    },
    {
      "cell_type": "markdown",
      "metadata": {
        "id": "69d2d6b7"
      },
      "source": [
        "\n",
        "## 🤖 Bước 3: Huấn luyện và đánh giá mô hình  \n",
        "### Step 3: Train and Evaluate the model\n",
        "\n",
        "    ➡️ Sử dụng mô hình Random Forest để dự đoán giá đóng cửa ngày hôm sau,\n",
        "    sau đó đánh giá sai số dự đoán bằng MAE (Mean Absolute Error).\n",
        "\n",
        "    ➡️ Use Random Forest to predict next day's closing price, then\n",
        "    evaluate the prediction error using MAE (Mean Absolute Error).\n"
      ]
    },
    {
      "cell_type": "code",
      "execution_count": 15,
      "metadata": {
        "colab": {
          "base_uri": "https://localhost:8080/"
        },
        "id": "c7fde30e",
        "outputId": "e0a9be65-5188-4010-a2bf-c69f80339f92"
      },
      "outputs": [
        {
          "output_type": "stream",
          "name": "stderr",
          "text": [
            "/usr/local/lib/python3.11/dist-packages/sklearn/base.py:1389: DataConversionWarning: A column-vector y was passed when a 1d array was expected. Please change the shape of y to (n_samples,), for example using ravel().\n",
            "  return fit_method(estimator, *args, **kwargs)\n"
          ]
        },
        {
          "output_type": "stream",
          "name": "stdout",
          "text": [
            "Mean Absolute Error: 2.76\n"
          ]
        }
      ],
      "source": [
        "# 🌲 Khởi tạo mô hình Random Forest với 100 cây\n",
        "# 🌲 Initialize Random Forest model with 100 trees\n",
        "model = RandomForestRegressor(n_estimators=100, random_state=42)\n",
        "\n",
        "# 🧠 Huấn luyện mô hình với tập train\n",
        "# 🧠 Train the model on training data\n",
        "model.fit(X_train, y_train)\n",
        "\n",
        "# 🔮 Dự đoán giá cổ phiếu với tập test\n",
        "# 🔮 Predict stock prices using the test set\n",
        "y_pred = model.predict(X_test)\n",
        "\n",
        "# 🔄 Chuyển y_test về dạng mảng numpy để tính toán\n",
        "# 🔄 Convert y_test to numpy array for evaluation\n",
        "y_test = np.array(y_test)\n",
        "\n",
        "# 📏 Tính sai số tuyệt đối trung bình (MAE)\n",
        "# 📏 Compute Mean Absolute Error (MAE)\n",
        "mae = mean_absolute_error(y_test, y_pred)\n",
        "\n",
        "# 📢 In kết quả sai số\n",
        "# 📢 Print the error result\n",
        "print(f\"Mean Absolute Error: {mae:.2f}\")\n"
      ]
    },
    {
      "cell_type": "markdown",
      "metadata": {
        "id": "b5f1eb52"
      },
      "source": [
        "\n",
        "## 💾 Bước 4: Lưu mô hình  \n",
        "### Step 4: Save the trained model\n",
        "\n",
        "Lưu mô hình vào file để sử dụng lại sau.  \n",
        "Save the model to a file for future use.\n"
      ]
    },
    {
      "cell_type": "code",
      "execution_count": 16,
      "metadata": {
        "colab": {
          "base_uri": "https://localhost:8080/"
        },
        "id": "dd2b8732",
        "outputId": "55fbc8ea-2a28-4fb3-8ce8-f36f6e3df798"
      },
      "outputs": [
        {
          "output_type": "stream",
          "name": "stdout",
          "text": [
            "✅ Đã lưu mô hình huấn luyện (Trained model saved)\n"
          ]
        }
      ],
      "source": [
        "import pickle  # 📦 Thư viện dùng để lưu và tải đối tượng Python\n",
        "              # 📦 Library used to save and load Python objects\n",
        "\n",
        "# 💾 Lưu mô hình vào file bằng định dạng nhị phân\n",
        "# 💾 Save the trained model to file in binary format\n",
        "with open(\"stock_model.pkl\", \"wb\") as f:\n",
        "    pickle.dump(model, f)\n",
        "\n",
        "# ✅ Thông báo khi lưu thành công\n",
        "# ✅ Notify when model is successfully saved\n",
        "print(\"✅ Đã lưu mô hình huấn luyện (Trained model saved)\")\n"
      ]
    },
    {
      "cell_type": "markdown",
      "source": [
        "## 🌐 BƯỚC 5A: Demo Giao diện (trên Internet) | Step 5A: UI Demo (on the Internet)\n",
        "\n",
        "➡️ Trình bày giao diện web/demo hiển thị kết quả mô hình dự đoán giá cổ phiếu.  \n",
        "➡️ Present the web interface or demo showing the stock price prediction results.\n",
        "\n",
        "🔹 Có thể sử dụng các công cụ như:  \n",
        "🔹 You can use tools such as:\n",
        "- Streamlit / Gradio để tạo giao diện đơn giản\n",
        "- Streamlit / Gradio for simple UI\n",
        "- Flask / FastAPI + HTML/CSS nếu muốn build web chi tiết hơn\n",
        "- Flask / FastAPI + HTML/CSS for more detailed web apps\n",
        "- Triển khai trên: Render, Vercel, Hugging Face Spaces, hoặc Replit\n",
        "- Deploy on: Render, Vercel, Hugging Face Spaces, or Replit\n",
        "\n",
        "✅ Mục tiêu:\n",
        "- Người dùng nhập mã cổ phiếu, mô hình hiển thị dự đoán giá tiếp theo\n",
        "- UI hiển thị biểu đồ đường MA_10, MA_50 kèm giá thực tế và dự đoán\n",
        "\n",
        "✅ Goal:\n",
        "- User enters a stock symbol, model shows predicted next-day price\n",
        "- UI displays line chart of MA_10, MA_50 with actual and predicted prices\n"
      ],
      "metadata": {
        "id": "Ofh1tnVcoRx9"
      }
    },
    {
      "cell_type": "markdown",
      "source": [
        "### 🚀 Bước 5.1: Cài đặt thư viện cần thiết\n",
        "\n",
        "**Step 5.1: Install required libraries**\n",
        "\n",
        "➡️ Để chạy ứng dụng giao diện (UI demo) với Streamlit trên môi trường notebook hoặc Google Colab, bạn cần cài đặt các thư viện sau:  \n",
        "➡️ To run the UI demo with Streamlit in a notebook or Google Colab, you need to install the following libraries:\n",
        "\n",
        "    streamlit: Thư viện tạo giao diện web đơn giản cho ứng dụng AI/ML\n",
        "    → Web UI builder for AI/ML apps\n",
        "\n",
        "    pyngrok: Dùng để tạo đường dẫn truy cập từ internet (tunnel)\n",
        "    → Used to expose your local app to the internet via secure tunnels"
      ],
      "metadata": {
        "id": "_PakES5uoj49"
      }
    },
    {
      "cell_type": "code",
      "source": [
        "!pip install streamlit\n",
        "!pip install pyngrok"
      ],
      "metadata": {
        "colab": {
          "base_uri": "https://localhost:8080/"
        },
        "collapsed": true,
        "id": "dxUlEBUUooI0",
        "outputId": "7c220382-55ee-4f64-9263-1df4198230c9"
      },
      "execution_count": 17,
      "outputs": [
        {
          "output_type": "stream",
          "name": "stdout",
          "text": [
            "Requirement already satisfied: streamlit in /usr/local/lib/python3.11/dist-packages (1.45.1)\n",
            "Requirement already satisfied: altair<6,>=4.0 in /usr/local/lib/python3.11/dist-packages (from streamlit) (5.5.0)\n",
            "Requirement already satisfied: blinker<2,>=1.5.0 in /usr/local/lib/python3.11/dist-packages (from streamlit) (1.9.0)\n",
            "Requirement already satisfied: cachetools<6,>=4.0 in /usr/local/lib/python3.11/dist-packages (from streamlit) (5.5.2)\n",
            "Requirement already satisfied: click<9,>=7.0 in /usr/local/lib/python3.11/dist-packages (from streamlit) (8.2.0)\n",
            "Requirement already satisfied: numpy<3,>=1.23 in /usr/local/lib/python3.11/dist-packages (from streamlit) (2.0.2)\n",
            "Requirement already satisfied: packaging<25,>=20 in /usr/local/lib/python3.11/dist-packages (from streamlit) (24.2)\n",
            "Requirement already satisfied: pandas<3,>=1.4.0 in /usr/local/lib/python3.11/dist-packages (from streamlit) (2.2.2)\n",
            "Requirement already satisfied: pillow<12,>=7.1.0 in /usr/local/lib/python3.11/dist-packages (from streamlit) (11.2.1)\n",
            "Requirement already satisfied: protobuf<7,>=3.20 in /usr/local/lib/python3.11/dist-packages (from streamlit) (5.29.4)\n",
            "Requirement already satisfied: pyarrow>=7.0 in /usr/local/lib/python3.11/dist-packages (from streamlit) (18.1.0)\n",
            "Requirement already satisfied: requests<3,>=2.27 in /usr/local/lib/python3.11/dist-packages (from streamlit) (2.32.3)\n",
            "Requirement already satisfied: tenacity<10,>=8.1.0 in /usr/local/lib/python3.11/dist-packages (from streamlit) (9.1.2)\n",
            "Requirement already satisfied: toml<2,>=0.10.1 in /usr/local/lib/python3.11/dist-packages (from streamlit) (0.10.2)\n",
            "Requirement already satisfied: typing-extensions<5,>=4.4.0 in /usr/local/lib/python3.11/dist-packages (from streamlit) (4.13.2)\n",
            "Requirement already satisfied: watchdog<7,>=2.1.5 in /usr/local/lib/python3.11/dist-packages (from streamlit) (6.0.0)\n",
            "Requirement already satisfied: gitpython!=3.1.19,<4,>=3.0.7 in /usr/local/lib/python3.11/dist-packages (from streamlit) (3.1.44)\n",
            "Requirement already satisfied: pydeck<1,>=0.8.0b4 in /usr/local/lib/python3.11/dist-packages (from streamlit) (0.9.1)\n",
            "Requirement already satisfied: tornado<7,>=6.0.3 in /usr/local/lib/python3.11/dist-packages (from streamlit) (6.4.2)\n",
            "Requirement already satisfied: jinja2 in /usr/local/lib/python3.11/dist-packages (from altair<6,>=4.0->streamlit) (3.1.6)\n",
            "Requirement already satisfied: jsonschema>=3.0 in /usr/local/lib/python3.11/dist-packages (from altair<6,>=4.0->streamlit) (4.23.0)\n",
            "Requirement already satisfied: narwhals>=1.14.2 in /usr/local/lib/python3.11/dist-packages (from altair<6,>=4.0->streamlit) (1.39.0)\n",
            "Requirement already satisfied: gitdb<5,>=4.0.1 in /usr/local/lib/python3.11/dist-packages (from gitpython!=3.1.19,<4,>=3.0.7->streamlit) (4.0.12)\n",
            "Requirement already satisfied: python-dateutil>=2.8.2 in /usr/local/lib/python3.11/dist-packages (from pandas<3,>=1.4.0->streamlit) (2.9.0.post0)\n",
            "Requirement already satisfied: pytz>=2020.1 in /usr/local/lib/python3.11/dist-packages (from pandas<3,>=1.4.0->streamlit) (2025.2)\n",
            "Requirement already satisfied: tzdata>=2022.7 in /usr/local/lib/python3.11/dist-packages (from pandas<3,>=1.4.0->streamlit) (2025.2)\n",
            "Requirement already satisfied: charset-normalizer<4,>=2 in /usr/local/lib/python3.11/dist-packages (from requests<3,>=2.27->streamlit) (3.4.2)\n",
            "Requirement already satisfied: idna<4,>=2.5 in /usr/local/lib/python3.11/dist-packages (from requests<3,>=2.27->streamlit) (3.10)\n",
            "Requirement already satisfied: urllib3<3,>=1.21.1 in /usr/local/lib/python3.11/dist-packages (from requests<3,>=2.27->streamlit) (2.4.0)\n",
            "Requirement already satisfied: certifi>=2017.4.17 in /usr/local/lib/python3.11/dist-packages (from requests<3,>=2.27->streamlit) (2025.4.26)\n",
            "Requirement already satisfied: smmap<6,>=3.0.1 in /usr/local/lib/python3.11/dist-packages (from gitdb<5,>=4.0.1->gitpython!=3.1.19,<4,>=3.0.7->streamlit) (5.0.2)\n",
            "Requirement already satisfied: MarkupSafe>=2.0 in /usr/local/lib/python3.11/dist-packages (from jinja2->altair<6,>=4.0->streamlit) (3.0.2)\n",
            "Requirement already satisfied: attrs>=22.2.0 in /usr/local/lib/python3.11/dist-packages (from jsonschema>=3.0->altair<6,>=4.0->streamlit) (25.3.0)\n",
            "Requirement already satisfied: jsonschema-specifications>=2023.03.6 in /usr/local/lib/python3.11/dist-packages (from jsonschema>=3.0->altair<6,>=4.0->streamlit) (2025.4.1)\n",
            "Requirement already satisfied: referencing>=0.28.4 in /usr/local/lib/python3.11/dist-packages (from jsonschema>=3.0->altair<6,>=4.0->streamlit) (0.36.2)\n",
            "Requirement already satisfied: rpds-py>=0.7.1 in /usr/local/lib/python3.11/dist-packages (from jsonschema>=3.0->altair<6,>=4.0->streamlit) (0.24.0)\n",
            "Requirement already satisfied: six>=1.5 in /usr/local/lib/python3.11/dist-packages (from python-dateutil>=2.8.2->pandas<3,>=1.4.0->streamlit) (1.17.0)\n",
            "Requirement already satisfied: pyngrok in /usr/local/lib/python3.11/dist-packages (7.2.8)\n",
            "Requirement already satisfied: PyYAML>=5.1 in /usr/local/lib/python3.11/dist-packages (from pyngrok) (6.0.2)\n"
          ]
        }
      ]
    },
    {
      "cell_type": "markdown",
      "source": [
        "###🌐 Bước 5.2: Viết giao diện sử dụng Streamlit\n",
        "\n",
        "**Step 5.2: Create UI with Streamlit**\n",
        "\n",
        "➡️ Tạo giao diện web đơn giản cho dự đoán giá cổ phiếu dựa trên mô hình Random Forest và dữ liệu lịch sử từ Yahoo Finance.\n",
        "\n",
        "➡️ Build a simple web interface for stock price prediction based on Random Forest model and historical data from Yahoo Finance."
      ],
      "metadata": {
        "id": "el82mUk2oukd"
      }
    },
    {
      "cell_type": "code",
      "source": [
        "# Viết APP Streamlit\n",
        "\n",
        "%%writefile app.py\n",
        "# 📦 Import các thư viện cần thiết\n",
        "# 📦 Import required libraries\n",
        "import streamlit as st\n",
        "import pandas as pd\n",
        "import matplotlib.pyplot as plt\n",
        "import pickle\n",
        "import yfinance as yf\n",
        "\n",
        "# 💾 Load mô hình đã huấn luyện từ file\n",
        "# 💾 Load trained model from file\n",
        "with open(\"stock_model.pkl\", \"rb\") as f:\n",
        "    model = pickle.load(f)\n",
        "\n",
        "# 🔄 Hàm tải dữ liệu cổ phiếu và tính trung bình động\n",
        "# 🔄 Function to load stock data and calculate moving averages\n",
        "def load_stock_data(ticker):\n",
        "    stock_data = yf.download(ticker, start=\"2020-01-01\")\n",
        "    stock_data[\"MA_10\"] = stock_data[\"Close\"].rolling(window=10).mean()\n",
        "    stock_data[\"MA_50\"] = stock_data[\"Close\"].rolling(window=50).mean()\n",
        "    return stock_data\n",
        "\n",
        "# 🖥️ Giao diện chính Streamlit\n",
        "# 🖥️ Main Streamlit UI\n",
        "st.title(\"📈 Dự đoán giá cổ phiếu với Machine Learning\")\n",
        "ticker = st.text_input(\"Nhập mã cổ phiếu (ví dụ: AAPL, MSFT, TSLA)\", \"AAPL\").upper()\n",
        "\n",
        "if st.button(\"Tải dữ liệu\"):\n",
        "    # 📥 Tải dữ liệu theo mã nhập vào\n",
        "    # 📥 Load data for input ticker\n",
        "    data = load_stock_data(ticker)\n",
        "    st.write(\"📊 Dữ liệu cổ phiếu:\", data.tail())\n",
        "\n",
        "    # 📉 Vẽ biểu đồ giá đóng cửa và 2 đường MA\n",
        "    # 📉 Plot closing price and 2 moving averages\n",
        "    fig, ax = plt.subplots(figsize=(12, 6))\n",
        "    ax.plot(data[\"Close\"], label=\"Close Price\", color=\"blue\")\n",
        "    ax.plot(data[\"MA_10\"], label=\"10-day MA\", linestyle=\"dashed\", color=\"green\")\n",
        "    ax.plot(data[\"MA_50\"], label=\"50-day MA\", linestyle=\"dashed\", color=\"red\")\n",
        "    ax.set_title(f\"Biểu đồ giá {ticker}\")\n",
        "    ax.legend()\n",
        "    st.pyplot(fig)\n",
        "\n",
        "    # 🔮 Dự đoán giá ngày mai dựa trên dữ liệu mới nhất\n",
        "    # 🔮 Predict next-day price based on latest data\n",
        "    latest_data = data[[\"MA_10\", \"MA_50\", \"Volume\"]].iloc[-1].values.reshape(1, -1)\n",
        "    predicted_price = model.predict(latest_data)[0]\n",
        "\n",
        "    st.success(f\"📌 Giá dự đoán ngày mai của {ticker}: **{predicted_price:.2f} USD**\")\n",
        "\n",
        "st.caption(\"🚀 Ứng dụng Machine Learning dự đoán giá cổ phiếu theo Moving Average + Random Forest.\")\n"
      ],
      "metadata": {
        "colab": {
          "base_uri": "https://localhost:8080/"
        },
        "id": "OCYQ1RfUois9",
        "outputId": "d1645e75-9aa4-4f78-cbd3-b2e4a0ebe601"
      },
      "execution_count": 19,
      "outputs": [
        {
          "output_type": "stream",
          "name": "stdout",
          "text": [
            "Overwriting app.py\n"
          ]
        }
      ]
    },
    {
      "cell_type": "markdown",
      "source": [
        "### 🔑 Bước 5.3: Đăng nhập và lấy authtoken trên ngrok\n",
        "\n",
        "**Step 5.3: Sign up and get authtoken on ngrok**\n",
        "\n",
        "Để hiển thị ứng dụng Streamlit trên Internet thông qua `ngrok`, bạn cần:\n",
        "\n",
        "To expose your Streamlit app to the Internet via `ngrok`, you need to:\n",
        "\n",
        "---\n",
        "\n",
        "1. **Tạo tài khoản ngrok (Sign up for an ngrok account):**  \n",
        "   Truy cập:  \n",
        "   https://dashboard.ngrok.com/login?state=0MZdko9buyFsE2RW-1tFrA4KegSYNVU7JMBTL5MJA_luBJvdgi7y3HJkDhj2KUskjAWLa-ObG_Z3DNV1e5I_xlhHktGPw2fSzQUKaPEQCB_vp1wg2WkJm-EBhSPLH7rsgqjDp-b8c1tJz6qnzC7zmV7yYzgdyXSBmHRb6RUnDXzheBwPCFyFgGy-\n",
        "\n",
        "---\n",
        "\n",
        "2. **Lấy Authtoken của bạn (Get your authtoken):**  \n",
        "   Truy cập:  \n",
        "   https://dashboard.ngrok.com/get-started/your-authtoken\n",
        "\n",
        "Sau đó, bạn sẽ dùng authtoken này để cấu hình ngrok, giúp tạo đường dẫn truy cập từ Internet đến ứng dụng Streamlit chạy trên máy tính cá nhân hoặc môi trường ảo.\n",
        "\n",
        "---\n",
        "\n"
      ],
      "metadata": {
        "id": "_hjMK-k4o9AF"
      }
    },
    {
      "cell_type": "markdown",
      "source": [
        "### Bước 5.4:\n",
        "\n",
        "**Step 5.4:**\n",
        "\n",
        "🔐 Cần đăng nhập trên ngrok để lấy authtoken trước khi dùng\n",
        "\n",
        "🔐 You must login to ngrok and get authtoken before use\n",
        "\n",
        "🛠 Đặt authtoken cho ngrok (bạn cần thay bằng authtoken của riêng bạn)\n",
        "\n",
        "🛠 Set ngrok authtoken (replace with your own authtoken)"
      ],
      "metadata": {
        "id": "2FOvhsMfpQ7u"
      }
    },
    {
      "cell_type": "code",
      "source": [
        "# Cần đăng nhập trên ngrok để lấy autoken! (Need to login on ngrok to get autoken!)\n",
        "# Đây là autoken của tôi, bạn cần tự lấy autoken thay vào! (This is my autoken, you have to auto get autoken!)\n",
        "!ngrok authtoken \"2vnX9rYN7CO6Ah7xA73xsu2HF1R_7JeDiWoAKyKFJHPXc2BiX\""
      ],
      "metadata": {
        "colab": {
          "base_uri": "https://localhost:8080/"
        },
        "id": "jTo734nNpXSG",
        "outputId": "431d2058-3df6-4b9c-8441-23166dcea14b"
      },
      "execution_count": 20,
      "outputs": [
        {
          "output_type": "stream",
          "name": "stdout",
          "text": [
            "Authtoken saved to configuration file: /root/.config/ngrok/ngrok.yml\n"
          ]
        }
      ]
    },
    {
      "cell_type": "markdown",
      "source": [
        "### 🖥️ Bước 5.5: Hiển thị giao diện\n",
        "\n",
        "---\n",
        "\n",
        "**Step 5.5: Display the Interface**\n",
        "\n",
        "---\n",
        "\n",
        "➡️ Sau khi chạy ứng dụng Streamlit và thiết lập ngrok thành công, bạn sẽ nhận được một URL truy cập công khai.  \n",
        "➡️ After running the Streamlit app and successfully setting up ngrok, you will get a public URL.\n",
        "\n",
        "---\n",
        "\n",
        "➡️ Mở URL này trên trình duyệt để xem giao diện dự đoán giá cổ phiếu trực tuyến.  \n",
        "➡️ Open this URL in your browser to see the stock price prediction interface online.\n",
        "\n",
        "---\n",
        "\n",
        "✅ Tại đây, người dùng có thể:  \n",
        "- Nhập mã cổ phiếu  \n",
        "- Tải dữ liệu lịch sử  \n",
        "- Xem biểu đồ giá và Moving Average  \n",
        "- Xem kết quả dự đoán giá ngày mai  "
      ],
      "metadata": {
        "id": "Y1dTh_RxpYCF"
      }
    },
    {
      "cell_type": "code",
      "source": [
        "# 🚀 Chạy ứng dụng Streamlit và mở cổng 8501 qua ngrok để truy cập từ Internet\n",
        "# 🚀 Run Streamlit app and open port 8501 via ngrok for internet access\n",
        "\n",
        "from pyngrok import ngrok\n",
        "\n",
        "# 🌐 Tạo đường hầm (tunnel) cho cổng 8501 (cổng mặc định của Streamlit)\n",
        "# 🌐 Create a tunnel for port 8501 (default port for Streamlit)\n",
        "public_url = ngrok.connect(8501, \"http\")  # Bỏ \"port=\" để tránh lỗi\n",
        "\n",
        "# 📢 In URL truy cập Streamlit qua Internet\n",
        "# 📢 Print public URL to access Streamlit from Internet\n",
        "print(f\"Truy cập Streamlit tại: {public_url}\")\n",
        "\n",
        "# 🏃‍♂️ Chạy file Streamlit app.py (lệnh shell)\n",
        "# 🏃‍♂️ Run the Streamlit app.py file (shell command)\n",
        "!streamlit run app.py\n"
      ],
      "metadata": {
        "colab": {
          "base_uri": "https://localhost:8080/"
        },
        "id": "9UP5s4f4pclF",
        "outputId": "676ea96a-041c-4a76-8864-05c4d1b389f4"
      },
      "execution_count": 21,
      "outputs": [
        {
          "output_type": "stream",
          "name": "stdout",
          "text": [
            "Truy cập Streamlit tại: NgrokTunnel: \"https://8340-34-147-16-102.ngrok-free.app\" -> \"http://localhost:8501\"\n",
            "\n",
            "Collecting usage statistics. To deactivate, set browser.gatherUsageStats to false.\n",
            "\u001b[0m\n",
            "\u001b[0m\n",
            "\u001b[34m\u001b[1m  You can now view your Streamlit app in your browser.\u001b[0m\n",
            "\u001b[0m\n",
            "\u001b[34m  Local URL: \u001b[0m\u001b[1mhttp://localhost:8501\u001b[0m\n",
            "\u001b[34m  Network URL: \u001b[0m\u001b[1mhttp://172.28.0.12:8501\u001b[0m\n",
            "\u001b[34m  External URL: \u001b[0m\u001b[1mhttp://34.147.16.102:8501\u001b[0m\n",
            "\u001b[0m\n",
            "YF.download() has changed argument auto_adjust default to True\n",
            "[*********************100%***********************]  1 of 1 completed\n",
            "\u001b[34m  Stopping...\u001b[0m\n",
            "^C\n"
          ]
        }
      ]
    },
    {
      "cell_type": "markdown",
      "source": [
        "## 🖥️ BƯỚC 5B: Demo giao diện trên máy\n",
        "\n",
        "**Step 5B: Demo the interface locally**\n",
        "\n",
        "➡️ Chạy ứng dụng Streamlit trực tiếp trên máy tính cá nhân hoặc môi trường phát triển (local).  \n",
        "\n",
        "➡️ Run the Streamlit app directly on your local machine or development environment."
      ],
      "metadata": {
        "id": "-w-uXNoCpq7t"
      }
    },
    {
      "cell_type": "markdown",
      "source": [
        "> ⚠️ **Lưu ý:**  \n",
        "> Phần này **phải chạy trên máy cá nhân**, dùng VSCode, PyCharm hoặc bất kỳ IDE nào bạn thích.  \n",
        "> Không chạy trực tiếp trên Google Colab được vì cần môi trường có giao diện đồ họa và truy cập cổng localhost.  \n",
        ">\n",
        "> ⚠️ **Note:**  \n",
        "> This part **must be run locally** on your personal computer, using VSCode, PyCharm, or any IDE you prefer.  \n",
        "> It **cannot run directly on Google Colab** because it requires GUI environment and access to localhost ports.\n"
      ],
      "metadata": {
        "id": "Ylk64dpCp0xc"
      }
    },
    {
      "cell_type": "markdown",
      "source": [
        "### 🔄 Bước 5.1: Chạy lại phần huấn luyện và lưu model trên máy cá nhân\n",
        "\n",
        "**Step 5.1: Retrain and save the model locally (not on Colab anymore)**\n",
        "\n",
        "➡️ Để đảm bảo mô hình được lưu và sử dụng đúng trên máy cá nhân, bạn cần chạy lại toàn bộ phần huấn luyện từ đầu trên môi trường local.  \n",
        "\n",
        "➡️ To ensure the model is properly saved and used on your local machine, you should rerun the full training process locally.\n"
      ],
      "metadata": {
        "id": "UcI1-INfqJrl"
      }
    },
    {
      "cell_type": "code",
      "source": [
        "import yfinance as yf\n",
        "import pandas as pd\n",
        "import numpy as np\n",
        "import matplotlib.pyplot as plt\n",
        "import joblib\n",
        "\n",
        "from sklearn.model_selection import train_test_split\n",
        "from sklearn.ensemble import RandomForestRegressor\n",
        "from sklearn.metrics import mean_absolute_error\n",
        "import pickle  # Cần import để lưu mô hình với pickle\n",
        "\n",
        "# 📈 Lấy dữ liệu cổ phiếu (Ví dụ: Apple - AAPL)\n",
        "# 📈 Get stock data (Example: Apple - AAPL)\n",
        "symbol = \"AAPL\"\n",
        "data = yf.download(symbol, start=\"2020-01-01\", end=\"2024-01-01\")\n",
        "\n",
        "# 📊 Tính MA ngắn hạn (10 ngày) và dài hạn (50 ngày)\n",
        "# 📊 Calculate short-term (10-day) and long-term (50-day) Moving Averages\n",
        "data[\"MA_10\"] = data[\"Close\"].rolling(window=10).mean()\n",
        "data[\"MA_50\"] = data[\"Close\"].rolling(window=50).mean()\n",
        "\n",
        "# 🔍 Hiển thị dữ liệu đầu tiên để kiểm tra\n",
        "# 🔍 Show first 15 rows to inspect data\n",
        "print(data[[\"Close\", \"MA_10\", \"MA_50\"]].head(15))\n",
        "\n",
        "# 🧹 Xóa các dòng có giá trị NaN do tính toán Moving Average\n",
        "# 🧹 Drop rows with NaN values caused by Moving Average calculation\n",
        "data.dropna(inplace=True)\n",
        "\n",
        "# 🔧 Tạo biến đầu vào (features) và biến mục tiêu (target)\n",
        "# 🔧 Create input features and target variable\n",
        "X = data[[\"MA_10\", \"MA_50\", \"Volume\"]]\n",
        "y = data[\"Close\"].shift(-1)  # Dự đoán giá ngày hôm sau / Predict next day's Close price\n",
        "\n",
        "# ⚠️ Xóa giá trị NaN cuối cùng do shift(-1)\n",
        "# ⚠️ Remove last row with NaN target caused by shift\n",
        "X = X[:-1]\n",
        "y = y[:-1]\n",
        "\n",
        "# 🔀 Chia dữ liệu thành train và test (80%-20%)\n",
        "# 🔀 Split data into training and testing sets (80%-20%)\n",
        "X_train, X_test, y_train, y_test = train_test_split(X, y, test_size=0.2, random_state=42)\n",
        "\n",
        "# 🌲 Khởi tạo mô hình Random Forest và huấn luyện\n",
        "# 🌲 Initialize and train Random Forest Regressor\n",
        "model = RandomForestRegressor(n_estimators=100, random_state=42)\n",
        "model.fit(X_train, y_train)\n",
        "\n",
        "# 🔮 Dự đoán trên tập test\n",
        "# 🔮 Predict on the test set\n",
        "y_pred = model.predict(X_test)\n",
        "\n",
        "y_test = np.array(y_test)\n",
        "\n",
        "# 📏 Đánh giá mô hình bằng Mean Absolute Error\n",
        "# 📏 Evaluate model using Mean Absolute Error (MAE)\n",
        "mae = mean_absolute_error(y_test, y_pred)\n",
        "print(f\"Mean Absolute Error: {mae:.2f}\")\n",
        "\n",
        "# 🟢 6. Lưu mô hình vào file để sử dụng lại sau này\n",
        "# 🟢 Step 6: Save the trained model to a file for later use\n",
        "with open(\"stock_model.pkl\", \"wb\") as f:\n",
        "    pickle.dump(model, f)\n",
        "print(\"Đã lưu mô hình huấn luyện\")\n"
      ],
      "metadata": {
        "id": "mGkur3LUqWl9"
      },
      "execution_count": null,
      "outputs": []
    },
    {
      "cell_type": "markdown",
      "source": [
        "### 🔽 Bước 5.2: Tải thư viện để viết giao diện  \n",
        "\n",
        "**Step 5.2: Install libraries to build the interface**\n",
        "\n",
        "➡️ Mở Terminal hoặc Command Prompt trên máy của bạn và chạy lệnh sau:  \n",
        "➡️ Open your Terminal or Command Prompt and run the following commands:\n"
      ],
      "metadata": {
        "id": "ADyFaDCupvF1"
      }
    },
    {
      "cell_type": "code",
      "source": [
        "pip install streamlit"
      ],
      "metadata": {
        "id": "gRlNc6CGqAvs"
      },
      "execution_count": null,
      "outputs": []
    },
    {
      "cell_type": "markdown",
      "source": [
        "### 🖥️ Bước 5.3: Viết giao diện, lưu file là **app.py**  \n",
        "### Step 5.3: Write the interface, save as **app.py**\n",
        "\n",
        "Dưới đây là ví dụ code giao diện sử dụng Streamlit, load model đã huấn luyện và dự đoán giá cổ phiếu:\n"
      ],
      "metadata": {
        "id": "yAm5O5IOqEPl"
      }
    },
    {
      "cell_type": "code",
      "source": [
        "# Giao diện Streamlit để dự đoán giá cổ phiếu\n",
        "# Streamlit interface for stock price prediction\n",
        "\n",
        "import streamlit as st\n",
        "import pandas as pd\n",
        "import matplotlib.pyplot as plt\n",
        "import pickle\n",
        "import yfinance as yf\n",
        "\n",
        "# Load mô hình đã huấn luyện từ file\n",
        "# Load the trained model from file\n",
        "with open(\"stock_model.pkl\", \"rb\") as f:\n",
        "    model = pickle.load(f)\n",
        "\n",
        "# Hàm tải dữ liệu cổ phiếu, tính MA10 và MA50\n",
        "# Function to fetch stock data and calculate 10-day & 50-day Moving Averages\n",
        "def load_stock_data(ticker):\n",
        "    stock_data = yf.download(ticker, start=\"2020-01-01\")\n",
        "    stock_data[\"MA_10\"] = stock_data[\"Close\"].rolling(window=10).mean()\n",
        "    stock_data[\"MA_50\"] = stock_data[\"Close\"].rolling(window=50).mean()\n",
        "    return stock_data\n",
        "\n",
        "# Tiêu đề ứng dụng trên giao diện\n",
        "# App title on the interface\n",
        "st.title(\"📈 Dự đoán giá cổ phiếu với Machine Learning\")\n",
        "\n",
        "# Input: mã cổ phiếu từ người dùng\n",
        "# Input: user inputs stock ticker symbol\n",
        "ticker = st.text_input(\"Nhập mã cổ phiếu (ví dụ: AAPL, MSFT, TSLA)\", \"AAPL\").upper()\n",
        "\n",
        "# Khi người dùng nhấn nút \"Tải dữ liệu\"\n",
        "# When user clicks \"Tải dữ liệu\" (Load data)\n",
        "if st.button(\"Tải dữ liệu\"):\n",
        "    data = load_stock_data(ticker)\n",
        "    st.write(\"📊 Dữ liệu cổ phiếu:\", data.tail())  # Hiển thị 5 dòng cuối dữ liệu\n",
        "\n",
        "    # Vẽ biểu đồ giá Close và các đường MA\n",
        "    # Plot Close price and MA lines\n",
        "    fig, ax = plt.subplots(figsize=(12, 6))\n",
        "    ax.plot(data[\"Close\"], label=\"Close Price\", color=\"blue\")\n",
        "    ax.plot(data[\"MA_10\"], label=\"10-day MA\", linestyle=\"dashed\", color=\"green\")\n",
        "    ax.plot(data[\"MA_50\"], label=\"50-day MA\", linestyle=\"dashed\", color=\"red\")\n",
        "    ax.set_title(f\"Biểu đồ giá {ticker}\")  # Chart title\n",
        "    ax.legend()\n",
        "    st.pyplot(fig)  # Hiển thị biểu đồ trên Streamlit\n",
        "\n",
        "    # Chuẩn bị dữ liệu mới nhất để dự đoán giá ngày mai\n",
        "    # Prepare latest features to predict next day price\n",
        "    latest_data = data[[\"MA_10\", \"MA_50\", \"Volume\"]].iloc[-1].values.reshape(1, -1)\n",
        "    predicted_price = model.predict(latest_data)[0]\n",
        "\n",
        "    # Hiển thị kết quả dự đoán\n",
        "    # Display predicted price result\n",
        "    st.success(f\"📌 Giá dự đoán ngày mai của {ticker}: **{predicted_price:.2f} USD**\")\n",
        "\n",
        "# Ghi chú nhỏ phía dưới giao diện\n",
        "# Small caption at the bottom of the interface\n",
        "st.caption(\"🚀 Ứng dụng Machine Learning dự đoán giá cổ phiếu theo Moving Average + Random Forest.\")\n"
      ],
      "metadata": {
        "id": "cqCM7sarqjyO"
      },
      "execution_count": null,
      "outputs": []
    },
    {
      "cell_type": "markdown",
      "source": [
        "### 🚀 Bước 5.4: Chạy ứng dụng Streamlit  \n",
        "\n",
        "**Step 5.4: Run the Streamlit app**\n",
        "\n",
        "➡️ Mở Terminal hoặc Command Prompt tại thư mục chứa file `app.py`\n",
        "\n",
        "➡️ Open Terminal or Command Prompt in the folder containing `app.py`"
      ],
      "metadata": {
        "id": "QtLoVP_Lqoc2"
      }
    },
    {
      "cell_type": "code",
      "source": [
        "streamlit run app.py"
      ],
      "metadata": {
        "id": "JRlVna6rqtbe"
      },
      "execution_count": null,
      "outputs": []
    },
    {
      "cell_type": "markdown",
      "source": [
        "💡 Lệnh này sẽ khởi động ứng dụng và mở giao diện Streamlit trên trình duyệt.\n",
        "\n",
        "💡 This command will start the app and open the Streamlit interface in your browser.\n",
        "\n"
      ],
      "metadata": {
        "id": "Wg1BRzrF0238"
      }
    }
  ],
  "metadata": {
    "colab": {
      "provenance": [],
      "collapsed_sections": [
        "UcI1-INfqJrl"
      ]
    },
    "kernelspec": {
      "display_name": "Python 3",
      "name": "python3"
    },
    "language_info": {
      "name": "python"
    }
  },
  "nbformat": 4,
  "nbformat_minor": 0
}